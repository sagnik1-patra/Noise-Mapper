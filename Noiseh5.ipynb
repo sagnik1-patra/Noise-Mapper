{
 "cells": [
  {
   "cell_type": "code",
   "execution_count": 2,
   "id": "47021212-d353-46e5-a3e2-346ef9eac2ff",
   "metadata": {},
   "outputs": [
    {
     "name": "stdout",
     "output_type": "stream",
     "text": [
      "✅ Saved stations as .pkl and .h5 in C:\\Users\\sagni\\Downloads\\Noise Mapper\n",
      "✅ Saved station_month as .pkl and .h5 in C:\\Users\\sagni\\Downloads\\Noise Mapper\n",
      "✅ Saved noise_level_data as .pkl and .h5 in C:\\Users\\sagni\\Downloads\\Noise Mapper\n",
      "✅ Saved location as .pkl and .h5 in C:\\Users\\sagni\\Downloads\\Noise Mapper\n",
      "✅ Saved noise_data_index as .pkl and .h5 in C:\\Users\\sagni\\Downloads\\Noise Mapper\n"
     ]
    }
   ],
   "source": [
    "import os\n",
    "import pandas as pd\n",
    "import pickle\n",
    "import h5py\n",
    "import numpy as np\n",
    "\n",
    "# Base directory\n",
    "base_path = r\"C:\\Users\\sagni\\Downloads\\Noise Mapper\"\n",
    "\n",
    "# Files to process\n",
    "csv_files = [\n",
    "    \"stations.csv\",\n",
    "    \"station_month.csv\",\n",
    "    \"noise_level_data.csv\",\n",
    "    \"location.csv\"\n",
    "]\n",
    "\n",
    "# Create save function for both formats\n",
    "def save_dataset(df, name, save_dir):\n",
    "    # Save as Pickle\n",
    "    pkl_path = os.path.join(save_dir, f\"{name}.pkl\")\n",
    "    with open(pkl_path, \"wb\") as f:\n",
    "        pickle.dump(df, f)\n",
    "    \n",
    "    # Save as HDF5\n",
    "    h5_path = os.path.join(save_dir, f\"{name}.h5\")\n",
    "    df.to_hdf(h5_path, key=\"data\", mode=\"w\")\n",
    "    \n",
    "    print(f\"✅ Saved {name} as .pkl and .h5 in {save_dir}\")\n",
    "\n",
    "# Process CSV files\n",
    "for csv_file in csv_files:\n",
    "    file_path = os.path.join(base_path, csv_file)\n",
    "    if os.path.exists(file_path):\n",
    "        df = pd.read_csv(file_path)\n",
    "        name = os.path.splitext(csv_file)[0]\n",
    "        save_dataset(df, name, base_path)\n",
    "    else:\n",
    "        print(f\"⚠ File not found: {file_path}\")\n",
    "\n",
    "# Process noise_data folder (if contains audio or text)\n",
    "noise_data_dir = os.path.join(base_path, \"noise_data\")\n",
    "if os.path.exists(noise_data_dir):\n",
    "    all_files = os.listdir(noise_data_dir)\n",
    "    \n",
    "    # Store file metadata in DataFrame\n",
    "    noise_records = []\n",
    "    for file_name in all_files:\n",
    "        file_path = os.path.join(noise_data_dir, file_name)\n",
    "        if os.path.isfile(file_path):\n",
    "            size_kb = os.path.getsize(file_path) / 1024\n",
    "            noise_records.append({\"file_name\": file_name, \"size_kb\": size_kb})\n",
    "    \n",
    "    noise_df = pd.DataFrame(noise_records)\n",
    "    save_dataset(noise_df, \"noise_data_index\", base_path)\n",
    "else:\n",
    "    print(f\"⚠ noise_data folder not found: {noise_data_dir}\")\n"
   ]
  },
  {
   "cell_type": "code",
   "execution_count": null,
   "id": "069397c6-b074-4704-8c20-ccddf76f6112",
   "metadata": {},
   "outputs": [],
   "source": []
  }
 ],
 "metadata": {
  "kernelspec": {
   "display_name": "Python 3.11 (moviepy)",
   "language": "python",
   "name": "py311"
  },
  "language_info": {
   "codemirror_mode": {
    "name": "ipython",
    "version": 3
   },
   "file_extension": ".py",
   "mimetype": "text/x-python",
   "name": "python",
   "nbconvert_exporter": "python",
   "pygments_lexer": "ipython3",
   "version": "3.11.9"
  }
 },
 "nbformat": 4,
 "nbformat_minor": 5
}
