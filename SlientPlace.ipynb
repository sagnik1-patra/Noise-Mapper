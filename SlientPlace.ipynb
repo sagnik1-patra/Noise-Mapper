{
 "cells": [
  {
   "cell_type": "code",
   "execution_count": 2,
   "id": "674b7f3e-0593-4ac4-8129-7dc9e424abeb",
   "metadata": {},
   "outputs": [
    {
     "name": "stdout",
     "output_type": "stream",
     "text": [
      "Columns in dataset: ['noise level', 'label']\n",
      "\n",
      "⚠️ No latitude/longitude columns found in dataset. You may need to merge with 'location.csv' to get coordinates.\n"
     ]
    }
   ],
   "source": [
    "import pandas as pd\n",
    "\n",
    "# Path to your dataset\n",
    "file_path = r\"C:\\Users\\sagni\\Downloads\\Noise Mapper\\noise_level_data.csv\"\n",
    "\n",
    "# Load dataset\n",
    "df = pd.read_csv(file_path)\n",
    "\n",
    "# Clean column names (remove trailing spaces)\n",
    "df.columns = df.columns.str.strip()\n",
    "\n",
    "# Check columns\n",
    "print(\"Columns in dataset:\", df.columns.tolist())\n",
    "\n",
    "# Convert label column to string and handle NaN\n",
    "df['label'] = df['label'].astype(str).str.strip()\n",
    "\n",
    "# Filter only 'silent' rows (case-insensitive)\n",
    "silent_places = df[df['label'].str.lower() == 'silent']\n",
    "\n",
    "# Check if latitude & longitude exist\n",
    "if 'latitude' in silent_places.columns and 'longitude' in silent_places.columns:\n",
    "    # Extract coordinates\n",
    "    silent_locations = silent_places[['latitude', 'longitude']]\n",
    "\n",
    "    print(\"\\nSilent Places (Latitude, Longitude):\")\n",
    "    print(silent_locations)\n",
    "\n",
    "    # Save to CSV\n",
    "    output_path = r\"C:\\Users\\sagni\\Downloads\\Noise Mapper\\silent_places_coordinates.csv\"\n",
    "    silent_locations.to_csv(output_path, index=False)\n",
    "    print(f\"\\n✅ Saved to {output_path}\")\n",
    "\n",
    "else:\n",
    "    print(\"\\n⚠️ No latitude/longitude columns found in dataset. \"\n",
    "          \"You may need to merge with 'location.csv' to get coordinates.\")\n"
   ]
  },
  {
   "cell_type": "code",
   "execution_count": 4,
   "id": "01323aeb-b436-4dcf-a701-d5f67440027f",
   "metadata": {},
   "outputs": [
    {
     "name": "stdout",
     "output_type": "stream",
     "text": [
      "\n",
      "📌 Raw column names in location.csv:\n",
      "['id', 'latitude', 'longitude', 'radius', 'latestTimestamp']\n",
      "\n",
      "🔍 Column names with index positions and hidden characters:\n",
      "0: 'id' (length: 2)\n",
      "1: 'latitude' (length: 8)\n",
      "2: 'longitude' (length: 9)\n",
      "3: 'radius' (length: 6)\n",
      "4: 'latestTimestamp' (length: 15)\n"
     ]
    }
   ],
   "source": [
    "import pandas as pd\n",
    "\n",
    "# Path to location.csv\n",
    "location_data_path = r\"C:\\Users\\sagni\\Downloads\\Noise Mapper\\location.csv\"\n",
    "\n",
    "# Read CSV\n",
    "location_df = pd.read_csv(location_data_path)\n",
    "\n",
    "# Show columns\n",
    "print(\"\\n📌 Raw column names in location.csv:\")\n",
    "print(location_df.columns.tolist())\n",
    "\n",
    "# Show column names with hidden characters visible\n",
    "print(\"\\n🔍 Column names with index positions and hidden characters:\")\n",
    "for i, col in enumerate(location_df.columns):\n",
    "    print(f\"{i}: '{col}' (length: {len(col)})\")\n"
   ]
  },
  {
   "cell_type": "code",
   "execution_count": 8,
   "id": "9f8418db-0abe-4bc7-8494-c47c9ff549f4",
   "metadata": {},
   "outputs": [
    {
     "name": "stdout",
     "output_type": "stream",
     "text": [
      "✅ Silent places coordinates saved!\n",
      "Empty DataFrame\n",
      "Columns: [latitude, longitude]\n",
      "Index: []\n"
     ]
    }
   ],
   "source": [
    "import pandas as pd\n",
    "\n",
    "# --- Load datasets ---\n",
    "noise_df = pd.read_csv(r\"C:\\Users\\sagni\\Downloads\\Noise Mapper\\noise_level_data.csv\")\n",
    "location_df = pd.read_csv(r\"C:\\Users\\sagni\\Downloads\\Noise Mapper\\location.csv\")\n",
    "\n",
    "# --- Clean column names ---\n",
    "noise_df.columns = noise_df.columns.str.strip()\n",
    "location_df.columns = location_df.columns.str.strip()\n",
    "\n",
    "# --- Merge datasets ---\n",
    "merged_df = pd.merge(\n",
    "    noise_df,\n",
    "    location_df,\n",
    "    left_on='label',    # 'label' from noise_df\n",
    "    right_on='id',      # 'id' from location_df\n",
    "    how='left'\n",
    ")\n",
    "\n",
    "# --- Filter for silent places ---\n",
    "merged_df['label'] = merged_df['label'].astype(str)  # ensure string\n",
    "silent_places = merged_df[merged_df['label'].str.strip().str.lower() == 'silent']\n",
    "\n",
    "# --- Keep only lat/long ---\n",
    "silent_coords = silent_places[['latitude', 'longitude']]\n",
    "\n",
    "# --- Save results ---\n",
    "silent_coords.to_csv(\n",
    "    r\"C:\\Users\\sagni\\Downloads\\Noise Mapper\\silent_places_coordinates.csv\",\n",
    "    index=False\n",
    ")\n",
    "\n",
    "print(\"✅ Silent places coordinates saved!\")\n",
    "print(silent_coords.head())\n"
   ]
  },
  {
   "cell_type": "code",
   "execution_count": 10,
   "id": "fb4f9a6c-a377-4c46-a9a8-49433360f872",
   "metadata": {},
   "outputs": [
    {
     "name": "stdout",
     "output_type": "stream",
     "text": [
      "📂 Columns found: ['id', 'latitude', 'longitude', 'radius', 'latestTimestamp']\n",
      "🔍 Total rows: 10\n",
      "✅ Found 4 silent places\n",
      "📍 Silent places saved to: silent_places.csv\n",
      "    latitude  longitude\n",
      "1  43.674757 -79.407054\n",
      "4  43.670889 -79.373946\n",
      "6  43.686629 -79.414751\n",
      "7  43.648282 -79.376501\n"
     ]
    }
   ],
   "source": [
    "import pandas as pd\n",
    "\n",
    "# === SETTINGS ===\n",
    "INPUT_FILE = r\"C:\\Users\\sagni\\Downloads\\Noise Mapper\\location.csv\"      # Path to your CSV file\n",
    "OUTPUT_FILE = \"silent_places.csv\" # Output file for silent places\n",
    "RADIUS_THRESHOLD = 50             # Define \"silent\" as radius <= 50 (adjust as needed)\n",
    "\n",
    "# === STEP 1: Load CSV ===\n",
    "df = pd.read_csv(INPUT_FILE)\n",
    "\n",
    "# Check columns to ensure no hidden characters\n",
    "df.columns = df.columns.str.strip()\n",
    "\n",
    "print(\"📂 Columns found:\", df.columns.tolist())\n",
    "print(f\"🔍 Total rows: {len(df)}\")\n",
    "\n",
    "# === STEP 2: Filter silent places ===\n",
    "# Adjust logic as needed (here: small radius = silent)\n",
    "silent_places = df[df[\"radius\"] <= RADIUS_THRESHOLD][[\"latitude\", \"longitude\"]]\n",
    "\n",
    "print(f\"✅ Found {len(silent_places)} silent places\")\n",
    "\n",
    "# === STEP 3: Save results ===\n",
    "silent_places.to_csv(OUTPUT_FILE, index=False)\n",
    "\n",
    "print(f\"📍 Silent places saved to: {OUTPUT_FILE}\")\n",
    "print(silent_places.head())\n"
   ]
  },
  {
   "cell_type": "code",
   "execution_count": null,
   "id": "b768a2ca-5a3f-4529-8d0c-d0a05f9dc454",
   "metadata": {},
   "outputs": [],
   "source": []
  }
 ],
 "metadata": {
  "kernelspec": {
   "display_name": "Python 3.11 (moviepy)",
   "language": "python",
   "name": "py311"
  },
  "language_info": {
   "codemirror_mode": {
    "name": "ipython",
    "version": 3
   },
   "file_extension": ".py",
   "mimetype": "text/x-python",
   "name": "python",
   "nbconvert_exporter": "python",
   "pygments_lexer": "ipython3",
   "version": "3.11.9"
  }
 },
 "nbformat": 4,
 "nbformat_minor": 5
}
