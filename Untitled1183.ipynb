{
 "cells": [
  {
   "cell_type": "code",
   "execution_count": 2,
   "id": "a907c509-c7c9-4d44-a6f8-63799436f42c",
   "metadata": {},
   "outputs": [
    {
     "name": "stdout",
     "output_type": "stream",
     "text": [
      "     Station  Year  Month  Day  Night  DayLimit  NightLimit       date\n",
      "1913   DEL03  2015      5    1    NaN        50          40 2015-05-01\n",
      "1914   DEL03  2015      6    1    NaN        50          40 2015-06-01\n",
      "1915   DEL03  2015      7    1    NaN        50          40 2015-07-01\n",
      "1916   DEL03  2015      8   31   25.0        50          40 2015-08-31\n",
      "Station               object\n",
      "Year                   int32\n",
      "Month                  int32\n",
      "Day                    int32\n",
      "Night                float64\n",
      "DayLimit               int64\n",
      "NightLimit             int64\n",
      "date          datetime64[ns]\n",
      "dtype: object\n"
     ]
    }
   ],
   "source": [
    "import pandas as pd\n",
    "import os\n",
    "\n",
    "BASE_PATH = r\"C:\\Users\\sagni\\Downloads\\Noise Mapper\"\n",
    "\n",
    "def load_and_prepare():\n",
    "    # Load station_month.csv\n",
    "    station_month_path = os.path.join(BASE_PATH, \"station_month.csv\")\n",
    "    df = pd.read_csv(station_month_path)\n",
    "\n",
    "    # Clean column names\n",
    "    df.columns = df.columns.str.strip()\n",
    "\n",
    "    # Ensure Year, Month, Day exist\n",
    "    for col in [\"Year\", \"Month\", \"Day\"]:\n",
    "        if col not in df.columns:\n",
    "            raise ValueError(f\"Missing column '{col}' in station_month.csv\")\n",
    "\n",
    "    # Convert to integers safely\n",
    "    for col in [\"Year\", \"Month\", \"Day\"]:\n",
    "        df[col] = pd.to_numeric(df[col], errors=\"coerce\")  # Convert non-numeric to NaN\n",
    "        df[col] = df[col].fillna(1).astype(int)  # Fill missing with 1 (safe default)\n",
    "\n",
    "    # Create date column\n",
    "    df[\"date\"] = pd.to_datetime(\n",
    "        dict(year=df[\"Year\"], month=df[\"Month\"], day=df[\"Day\"]),\n",
    "        errors=\"coerce\"\n",
    "    )\n",
    "\n",
    "    # Drop invalid dates\n",
    "    df = df.dropna(subset=[\"date\"])\n",
    "\n",
    "    return df\n",
    "\n",
    "if __name__ == \"__main__\":\n",
    "    data = load_and_prepare()\n",
    "    print(data.head())\n",
    "    print(data.dtypes)\n"
   ]
  },
  {
   "cell_type": "code",
   "execution_count": null,
   "id": "ce3318db-8ae7-428f-ac30-3f92c6b1e062",
   "metadata": {},
   "outputs": [],
   "source": []
  }
 ],
 "metadata": {
  "kernelspec": {
   "display_name": "Python 3.11 (moviepy)",
   "language": "python",
   "name": "py311"
  },
  "language_info": {
   "codemirror_mode": {
    "name": "ipython",
    "version": 3
   },
   "file_extension": ".py",
   "mimetype": "text/x-python",
   "name": "python",
   "nbconvert_exporter": "python",
   "pygments_lexer": "ipython3",
   "version": "3.11.9"
  }
 },
 "nbformat": 4,
 "nbformat_minor": 5
}
